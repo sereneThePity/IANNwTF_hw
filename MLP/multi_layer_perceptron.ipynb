{
 "cells": [
  {
   "cell_type": "markdown",
   "metadata": {
    "papermill": {
     "duration": 0.014392,
     "end_time": "2023-10-22T10:20:00.767135",
     "exception": false,
     "start_time": "2023-10-22T10:20:00.752743",
     "status": "completed"
    },
    "tags": []
   },
   "source": [
    "**Neural Network from scratch**\n",
    "\n",
    "A simple two-layer neural network built on MNIST digit recognizer dataset to understand the underlying math of neural networks better.\n"
   ]
  },
  {
   "cell_type": "code",
   "execution_count": 15,
   "metadata": {
    "_cell_guid": "b1076dfc-b9ad-4769-8c92-a6c4dae69d19",
    "_uuid": "8f2839f25d086af736a60e9eeb907d3b93b6e0e5",
    "execution": {
     "iopub.execute_input": "2023-10-22T10:20:00.792836Z",
     "iopub.status.busy": "2023-10-22T10:20:00.792124Z",
     "iopub.status.idle": "2023-10-22T10:20:04.290821Z",
     "shell.execute_reply": "2023-10-22T10:20:04.290159Z",
     "shell.execute_reply.started": "2023-09-25T16:52:19.888924Z"
    },
    "papermill": {
     "duration": 3.512623,
     "end_time": "2023-10-22T10:20:04.290973",
     "exception": false,
     "start_time": "2023-10-22T10:20:00.778350",
     "status": "completed"
    },
    "tags": []
   },
   "outputs": [],
   "source": [
    "import numpy as np\n",
    "import pandas as pd\n",
    "from matplotlib import pyplot as plt\n",
    "from sklearn.datasets import load_digits\n",
    "digits = load_digits()\n",
    "\n",
    "# get the data and target values from digits dataset\n",
    "\n",
    "data = digits.data\n",
    "target = digits.target"
   ]
  },
  {
   "cell_type": "code",
   "execution_count": 16,
   "metadata": {},
   "outputs": [],
   "source": [
    "# get the shape of data array\n",
    "\n",
    "m, n = data.shape"
   ]
  },
  {
   "cell_type": "code",
   "execution_count": 17,
   "metadata": {
    "execution": {
     "iopub.execute_input": "2023-10-22T10:20:04.989715Z",
     "iopub.status.busy": "2023-10-22T10:20:04.988590Z",
     "iopub.status.idle": "2023-10-22T10:20:04.993886Z",
     "shell.execute_reply": "2023-10-22T10:20:04.993283Z",
     "shell.execute_reply.started": "2023-09-25T17:22:45.668774Z"
    },
    "papermill": {
     "duration": 0.02179,
     "end_time": "2023-10-22T10:20:04.994014",
     "exception": false,
     "start_time": "2023-10-22T10:20:04.972224",
     "status": "completed"
    },
    "tags": []
   },
   "outputs": [],
   "source": [
    "# split into train and test set\n",
    "\n",
    "X_test = data[0:100].T\n",
    "Y_test = target[0:100].T\n",
    "\n",
    "X_test = X_test / 16.\n",
    "\n",
    "X_train = data[100:m].T\n",
    "Y_train = target[100:m].T\n",
    "\n",
    "X_train = X_train / 16.\n",
    "_,m_train = X_train.shape"
   ]
  },
  {
   "cell_type": "code",
   "execution_count": 18,
   "metadata": {},
   "outputs": [],
   "source": [
    "# generating minibatch\n",
    "\n",
    "def generate_minibatch(X,Y,j,batch_size):\n",
    "        X_batch = X[:,j:j+batch_size]\n",
    "        Y_batch = Y[j:j+batch_size]\n",
    "        yield X_batch, Y_batch"
   ]
  },
  {
   "cell_type": "code",
   "execution_count": 19,
   "metadata": {
    "execution": {
     "iopub.execute_input": "2023-10-22T10:20:05.205171Z",
     "iopub.status.busy": "2023-10-22T10:20:05.204109Z",
     "iopub.status.idle": "2023-10-22T10:20:05.207187Z",
     "shell.execute_reply": "2023-10-22T10:20:05.206518Z",
     "shell.execute_reply.started": "2023-09-25T16:52:23.461313Z"
    },
    "papermill": {
     "duration": 0.030174,
     "end_time": "2023-10-22T10:20:05.207309",
     "exception": false,
     "start_time": "2023-10-22T10:20:05.177135",
     "status": "completed"
    },
    "tags": []
   },
   "outputs": [],
   "source": [
    "class mlp:\n",
    "\n",
    "    # initialize and return weights and biases (W1,b1,W2,b2)\n",
    "    def init_params(batch_size):\n",
    "        W1 = np.random.normal(0,0.2,(batch_size,64)) \n",
    "        b1 = np.zeros((batch_size,1))\n",
    "        W2 = np.random.normal(0,0.2,(batch_size,10)) \n",
    "        b2 = np.zeros((batch_size,1))\n",
    "        return W1, b1, W2, b2\n",
    "\n",
    "    # sigmoid activation\n",
    "    def sigmoid(Z):\n",
    "        return np.exp(Z)/(1+np.exp(Z))\n",
    "\n",
    "    # softmax activation\n",
    "    def softmax(Z):\n",
    "        A = np.exp(Z) / sum(np.exp(Z))\n",
    "        return A\n",
    "\n",
    "    # forward pass\n",
    "    def forward_prop(W1, b1, W2, b2, X):\n",
    "        Z1 = W1.dot(X) + b1\n",
    "        A1 = mlp.sigmoid(Z1)\n",
    "        Z2 = W2.dot(A1) + b2\n",
    "        A2 = mlp.softmax(Z2)\n",
    "        return Z1, A1, Z2, A2\n",
    "\n",
    "    # sigmoid derivative\n",
    "    def sigmoid_deriv(Z):\n",
    "        return mlp.sigmoid(Z)*(1-mlp.sigmoid(Z))\n",
    "\n",
    "    # one-hot encode target values\n",
    "    # threw a weird error. look into gradient descent\n",
    "    def one_hot(Y):\n",
    "        Y = Y.astype(int)\n",
    "        one_hot_Y = np.zeros((Y.size, 10))\n",
    "        one_hot_Y[np.arange(Y.size), Y] = 1\n",
    "        one_hot_Y = one_hot_Y.T\n",
    "    #     print(one_hot_Y[:,0:10],one_hot_Y.shape)\n",
    "        return one_hot_Y\n",
    "\n",
    "    # loss (also not required, as derivative of CCE Loss along with softmax function is just\n",
    "    # the difference between the actual and predicted outputs )\n",
    "    def loss(A2):\n",
    "        return -np.log(np.mean(A2))\n",
    "\n",
    "    # backward pass\n",
    "    def backward_prop(Z1, A1, Z2, A2, W1, W2, X, Y):\n",
    "        one_hot_Y = mlp.one_hot(Y)\n",
    "        dZ2 = A2 - one_hot_Y\n",
    "        dW2 = 1 / m * dZ2.dot(A1.T)\n",
    "        db2 = 1 / m * np.sum(dZ2)\n",
    "        dZ1 = W2.T.dot(dZ2) * mlp.sigmoid_deriv(Z1)\n",
    "        dW1 = 1 / m * dZ1.dot(X.T)\n",
    "        db1 = 1 / m * np.sum(dZ1)\n",
    "        return dW1, db1, dW2, db2\n",
    "\n",
    "    # updating weights and biases along with learning rate alpha\n",
    "    def update_params(W1, b1, W2, b2, dW1, db1, dW2, db2, alpha):\n",
    "        W1 = W1 - alpha * dW1\n",
    "        b1 = b1 - alpha * db1    \n",
    "        W2 = W2 - alpha * dW2  \n",
    "        b2 = b2 - alpha * db2    \n",
    "        return W1, b1, W2, b2"
   ]
  },
  {
   "cell_type": "code",
   "execution_count": 20,
   "metadata": {
    "execution": {
     "iopub.execute_input": "2023-10-22T10:20:05.240150Z",
     "iopub.status.busy": "2023-10-22T10:20:05.239436Z",
     "iopub.status.idle": "2023-10-22T10:20:05.242295Z",
     "shell.execute_reply": "2023-10-22T10:20:05.241766Z",
     "shell.execute_reply.started": "2023-09-25T16:52:23.483913Z"
    },
    "papermill": {
     "duration": 0.023789,
     "end_time": "2023-10-22T10:20:05.242424",
     "exception": false,
     "start_time": "2023-10-22T10:20:05.218635",
     "status": "completed"
    },
    "tags": []
   },
   "outputs": [],
   "source": [
    "# optimization algorithm: gradient descent\n",
    "# encountered a weird error wrt one-hot encoded value, where in the middle of (10,10) values\n",
    "# a random (10,9) popped up like a wild pokemon. hence, the batch size is to be kept hard-coded as 10 \n",
    "def gradient_descent(X, Y, alpha, iterations, batch_size):\n",
    "    W1, b1, W2, b2 = mlp.init_params(batch_size)\n",
    "    for i in range(iterations):\n",
    "        for j in range(0,m-100, batch_size):\n",
    "            X_batch,Y_batch = next(generate_minibatch(X,Y,j,batch_size))\n",
    "            Z1, A1, Z2, A2 = mlp.forward_prop(W1, b1, W2, b2, X_batch)\n",
    "            dW1, db1, dW2, db2 = mlp.backward_prop(Z1, A1, Z2, A2, W1, W2, X_batch, Y_batch)\n",
    "            W1, b1, W2, b2 = mlp.update_params(W1, b1, W2, b2, dW1, db1, dW2, db2, alpha)\n",
    "            if ((i % 10 == 0) & (j % m == 0)):\n",
    "                print(\"Iteration: \", i)\n",
    "                predictions = get_predictions(A2)\n",
    "                print(get_accuracy(predictions, Y_batch))\n",
    "    return W1, b1, W2, b2"
   ]
  },
  {
   "cell_type": "code",
   "execution_count": 21,
   "metadata": {},
   "outputs": [],
   "source": [
    "# predictions and accuracy\n",
    "def get_predictions(A2):\n",
    "    return np.argmax(A2, 0)\n",
    "\n",
    "def get_accuracy(predictions, Y):\n",
    "    print(predictions, Y)\n",
    "    return np.sum(predictions == Y) / Y.size"
   ]
  },
  {
   "cell_type": "code",
   "execution_count": 22,
   "metadata": {
    "execution": {
     "iopub.execute_input": "2023-10-22T10:20:05.268378Z",
     "iopub.status.busy": "2023-10-22T10:20:05.267709Z",
     "iopub.status.idle": "2023-10-22T10:20:46.811173Z",
     "shell.execute_reply": "2023-10-22T10:20:46.810386Z",
     "shell.execute_reply.started": "2023-09-25T16:52:23.501587Z"
    },
    "papermill": {
     "duration": 41.557457,
     "end_time": "2023-10-22T10:20:46.811329",
     "exception": false,
     "start_time": "2023-10-22T10:20:05.253872",
     "status": "completed"
    },
    "tags": []
   },
   "outputs": [
    {
     "name": "stdout",
     "output_type": "stream",
     "text": [
      "Iteration:  0\n",
      "[0 0 0 0 0 0 0 0 0 0] [4 0 5 3 6 9 6 1 7 5]\n",
      "0.1\n",
      "Iteration:  10\n",
      "[0 0 0 0 0 0 0 0 0 0] [4 0 5 3 6 9 6 1 7 5]\n",
      "0.1\n",
      "Iteration:  20\n",
      "[0 8 0 0 0 3 0 0 0 0] [4 0 5 3 6 9 6 1 7 5]\n",
      "0.0\n",
      "Iteration:  30\n",
      "[0 8 0 0 0 3 0 0 0 0] [4 0 5 3 6 9 6 1 7 5]\n",
      "0.0\n",
      "Iteration:  40\n",
      "[0 8 0 0 0 3 0 8 0 0] [4 0 5 3 6 9 6 1 7 5]\n",
      "0.0\n",
      "Iteration:  50\n",
      "[0 8 0 7 0 5 6 8 0 0] [4 0 5 3 6 9 6 1 7 5]\n",
      "0.1\n",
      "Iteration:  60\n",
      "[0 8 0 7 0 5 6 8 4 5] [4 0 5 3 6 9 6 1 7 5]\n",
      "0.2\n",
      "Iteration:  70\n",
      "[0 8 0 7 0 5 6 8 4 5] [4 0 5 3 6 9 6 1 7 5]\n",
      "0.2\n",
      "Iteration:  80\n",
      "[0 8 0 7 0 5 6 8 4 5] [4 0 5 3 6 9 6 1 7 5]\n",
      "0.2\n",
      "Iteration:  90\n",
      "[0 8 7 7 0 5 6 8 4 5] [4 0 5 3 6 9 6 1 7 5]\n",
      "0.2\n",
      "Iteration:  100\n",
      "[0 8 7 7 0 5 6 8 4 5] [4 0 5 3 6 9 6 1 7 5]\n",
      "0.2\n",
      "Iteration:  110\n",
      "[0 8 7 7 0 5 6 8 4 5] [4 0 5 3 6 9 6 1 7 5]\n",
      "0.2\n",
      "Iteration:  120\n",
      "[0 8 7 7 0 9 6 8 4 5] [4 0 5 3 6 9 6 1 7 5]\n",
      "0.3\n",
      "Iteration:  130\n",
      "[0 6 7 7 0 9 6 8 4 5] [4 0 5 3 6 9 6 1 7 5]\n",
      "0.3\n",
      "Iteration:  140\n",
      "[0 6 7 7 0 9 6 8 4 5] [4 0 5 3 6 9 6 1 7 5]\n",
      "0.3\n",
      "Iteration:  150\n",
      "[0 6 7 7 0 9 6 8 4 5] [4 0 5 3 6 9 6 1 7 5]\n",
      "0.3\n",
      "Iteration:  160\n",
      "[0 6 7 7 0 9 6 8 4 5] [4 0 5 3 6 9 6 1 7 5]\n",
      "0.3\n",
      "Iteration:  170\n",
      "[0 6 7 7 0 9 6 8 4 5] [4 0 5 3 6 9 6 1 7 5]\n",
      "0.3\n",
      "Iteration:  180\n",
      "[0 6 5 7 0 9 6 8 4 5] [4 0 5 3 6 9 6 1 7 5]\n",
      "0.4\n",
      "Iteration:  190\n",
      "[0 6 5 7 0 9 6 8 4 5] [4 0 5 3 6 9 6 1 7 5]\n",
      "0.4\n",
      "Iteration:  200\n",
      "[0 6 5 7 0 9 6 8 4 5] [4 0 5 3 6 9 6 1 7 5]\n",
      "0.4\n",
      "Iteration:  210\n",
      "[0 6 5 7 0 9 6 8 7 5] [4 0 5 3 6 9 6 1 7 5]\n",
      "0.5\n",
      "Iteration:  220\n",
      "[0 6 5 7 0 9 6 8 7 5] [4 0 5 3 6 9 6 1 7 5]\n",
      "0.5\n",
      "Iteration:  230\n",
      "[0 6 5 7 6 9 6 8 7 5] [4 0 5 3 6 9 6 1 7 5]\n",
      "0.6\n",
      "Iteration:  240\n",
      "[0 6 5 7 6 9 6 8 7 5] [4 0 5 3 6 9 6 1 7 5]\n",
      "0.6\n",
      "Iteration:  250\n",
      "[0 6 5 7 6 9 6 8 7 5] [4 0 5 3 6 9 6 1 7 5]\n",
      "0.6\n",
      "Iteration:  260\n",
      "[4 6 5 7 6 9 6 8 7 5] [4 0 5 3 6 9 6 1 7 5]\n",
      "0.7\n",
      "Iteration:  270\n",
      "[4 6 5 7 6 9 6 8 7 5] [4 0 5 3 6 9 6 1 7 5]\n",
      "0.7\n",
      "Iteration:  280\n",
      "[4 6 5 7 6 9 6 8 7 5] [4 0 5 3 6 9 6 1 7 5]\n",
      "0.7\n",
      "Iteration:  290\n",
      "[4 6 5 7 6 9 6 8 7 5] [4 0 5 3 6 9 6 1 7 5]\n",
      "0.7\n",
      "Iteration:  300\n",
      "[4 6 5 7 6 9 6 1 7 5] [4 0 5 3 6 9 6 1 7 5]\n",
      "0.8\n",
      "Iteration:  310\n",
      "[4 6 5 7 6 9 6 1 7 5] [4 0 5 3 6 9 6 1 7 5]\n",
      "0.8\n",
      "Iteration:  320\n",
      "[4 6 5 7 6 9 6 1 7 5] [4 0 5 3 6 9 6 1 7 5]\n",
      "0.8\n",
      "Iteration:  330\n",
      "[4 6 5 7 6 9 6 1 7 5] [4 0 5 3 6 9 6 1 7 5]\n",
      "0.8\n",
      "Iteration:  340\n",
      "[4 6 5 7 6 9 6 1 7 5] [4 0 5 3 6 9 6 1 7 5]\n",
      "0.8\n",
      "Iteration:  350\n",
      "[4 6 5 3 6 9 6 1 7 5] [4 0 5 3 6 9 6 1 7 5]\n",
      "0.9\n",
      "Iteration:  360\n",
      "[4 6 5 3 6 9 6 1 7 5] [4 0 5 3 6 9 6 1 7 5]\n",
      "0.9\n",
      "Iteration:  370\n",
      "[4 6 5 3 6 9 6 1 7 5] [4 0 5 3 6 9 6 1 7 5]\n",
      "0.9\n",
      "Iteration:  380\n",
      "[4 6 5 3 6 9 6 1 7 5] [4 0 5 3 6 9 6 1 7 5]\n",
      "0.9\n",
      "Iteration:  390\n",
      "[4 6 5 3 6 9 6 1 7 5] [4 0 5 3 6 9 6 1 7 5]\n",
      "0.9\n",
      "Iteration:  400\n",
      "[4 6 5 3 6 9 6 1 7 5] [4 0 5 3 6 9 6 1 7 5]\n",
      "0.9\n",
      "Iteration:  410\n",
      "[4 6 5 3 6 9 6 1 7 5] [4 0 5 3 6 9 6 1 7 5]\n",
      "0.9\n",
      "Iteration:  420\n",
      "[4 6 5 3 6 9 6 1 7 5] [4 0 5 3 6 9 6 1 7 5]\n",
      "0.9\n",
      "Iteration:  430\n",
      "[4 6 5 3 6 9 6 1 7 5] [4 0 5 3 6 9 6 1 7 5]\n",
      "0.9\n",
      "Iteration:  440\n",
      "[4 6 5 3 6 9 6 1 7 5] [4 0 5 3 6 9 6 1 7 5]\n",
      "0.9\n",
      "Iteration:  450\n",
      "[4 6 5 3 6 9 6 1 7 5] [4 0 5 3 6 9 6 1 7 5]\n",
      "0.9\n",
      "Iteration:  460\n",
      "[4 6 5 3 6 9 6 1 7 5] [4 0 5 3 6 9 6 1 7 5]\n",
      "0.9\n",
      "Iteration:  470\n",
      "[4 6 5 3 6 9 6 1 7 5] [4 0 5 3 6 9 6 1 7 5]\n",
      "0.9\n",
      "Iteration:  480\n",
      "[4 6 5 3 6 9 6 1 7 5] [4 0 5 3 6 9 6 1 7 5]\n",
      "0.9\n",
      "Iteration:  490\n",
      "[4 6 5 3 6 9 6 1 7 5] [4 0 5 3 6 9 6 1 7 5]\n",
      "0.9\n"
     ]
    }
   ],
   "source": [
    "# gradient descent steps with hardcoded batch_size\n",
    "W1, b1, W2, b2 = gradient_descent(X_train, Y_train, 0.10, 500, 10)"
   ]
  },
  {
   "cell_type": "code",
   "execution_count": 23,
   "metadata": {
    "execution": {
     "iopub.execute_input": "2023-10-22T10:20:46.879238Z",
     "iopub.status.busy": "2023-10-22T10:20:46.878141Z",
     "iopub.status.idle": "2023-10-22T10:20:46.880941Z",
     "shell.execute_reply": "2023-10-22T10:20:46.881411Z",
     "shell.execute_reply.started": "2023-09-25T16:53:15.011013Z"
    },
    "papermill": {
     "duration": 0.03843,
     "end_time": "2023-10-22T10:20:46.881588",
     "exception": false,
     "start_time": "2023-10-22T10:20:46.843158",
     "status": "completed"
    },
    "tags": []
   },
   "outputs": [],
   "source": [
    "def make_predictions(X, W1, b1, W2, b2):\n",
    "    _, _, _, A2 = mlp.forward_prop(W1, b1, W2, b2, X)\n",
    "    predictions = get_predictions(A2)\n",
    "    return predictions\n",
    "\n",
    "def test_prediction(index, W1, b1, W2, b2):\n",
    "    current_image = X_train[:, index, None]\n",
    "    prediction = make_predictions(X_train[:, index, None], W1, b1, W2, b2)\n",
    "    label = Y_train[index]\n",
    "    print(\"Prediction: \", prediction)\n",
    "    print(\"Label: \", label)\n",
    "    \n",
    "    current_image = current_image.reshape((8, 8)) * 255\n",
    "    plt.gray()\n",
    "    plt.imshow(current_image, interpolation='nearest')\n",
    "    plt.show()"
   ]
  },
  {
   "cell_type": "code",
   "execution_count": 24,
   "metadata": {
    "execution": {
     "iopub.execute_input": "2023-10-22T10:20:46.939958Z",
     "iopub.status.busy": "2023-10-22T10:20:46.938918Z",
     "iopub.status.idle": "2023-10-22T10:20:47.170875Z",
     "shell.execute_reply": "2023-10-22T10:20:47.170311Z",
     "shell.execute_reply.started": "2023-09-25T17:26:49.071705Z"
    },
    "papermill": {
     "duration": 0.263182,
     "end_time": "2023-10-22T10:20:47.171014",
     "exception": false,
     "start_time": "2023-10-22T10:20:46.907832",
     "status": "completed"
    },
    "tags": []
   },
   "outputs": [
    {
     "name": "stdout",
     "output_type": "stream",
     "text": [
      "Prediction:  [2]\n",
      "Label:  2\n"
     ]
    },
    {
     "data": {
      "image/png": "[encoded data removed]",
      "text/plain": [
       "<Figure size 640x480 with 1 Axes>"
      ]
     },
     "metadata": {},
     "output_type": "display_data"
    }
   ],
   "source": [
    "test_prediction(107, W1, b1, W2, b2)"
   ]
  },
  {
   "cell_type": "markdown",
   "metadata": {
    "papermill": {
     "duration": 0.026734,
     "end_time": "2023-10-22T10:20:47.224798",
     "exception": false,
     "start_time": "2023-10-22T10:20:47.198064",
     "status": "completed"
    },
    "tags": []
   },
   "source": [
    "Finally, let's find the accuracy on the dev set:"
   ]
  },
  {
   "cell_type": "code",
   "execution_count": 28,
   "metadata": {
    "execution": {
     "iopub.execute_input": "2023-10-22T10:20:47.285875Z",
     "iopub.status.busy": "2023-10-22T10:20:47.284887Z",
     "iopub.status.idle": "2023-10-22T10:20:47.296536Z",
     "shell.execute_reply": "2023-10-22T10:20:47.295772Z",
     "shell.execute_reply.started": "2023-09-25T16:53:15.776038Z"
    },
    "papermill": {
     "duration": 0.043924,
     "end_time": "2023-10-22T10:20:47.296688",
     "exception": false,
     "start_time": "2023-10-22T10:20:47.252764",
     "status": "completed"
    },
    "scrolled": true,
    "tags": []
   },
   "outputs": [
    {
     "name": "stdout",
     "output_type": "stream",
     "text": [
      "[0 1 1 3 4 9 6 7 1 5 0 1 2 3 4 5 6 7 1 2 0 1 2 3 4 5 6 4 1 9 0 3 5 5 6 5 0\n",
      " 9 7 9 1 4 1 7 7 3 5 1 0 0 1 4 7 7 4 0 1 1 6 3 3 7 3 3 4 6 6 6 4 7 1 5 0 9\n",
      " 5 1 1 1 0 0 1 7 6 3 2 1 4 7 6 3 1 3 3 1 7 6 1 4 3 1] [0 1 2 3 4 5 6 7 8 9 0 1 2 3 4 5 6 7 8 9 0 1 2 3 4 5 6 7 8 9 0 9 5 5 6 5 0\n",
      " 9 8 9 8 4 1 7 7 3 5 1 0 0 2 2 7 8 2 0 1 2 6 3 3 7 3 3 4 6 6 6 4 9 1 5 0 9\n",
      " 5 2 8 2 0 0 1 7 6 3 2 1 7 4 6 3 1 3 9 1 7 6 8 4 3 1]\n"
     ]
    },
    {
     "data": {
      "text/plain": [
       "0.76"
      ]
     },
     "execution_count": 28,
     "metadata": {},
     "output_type": "execute_result"
    }
   ],
   "source": [
    "dev_predictions = make_predictions(X_test, W1, b1, W2, b2)\n",
    "get_accuracy(dev_predictions, Y_test)"
   ]
  },
  {
   "cell_type": "markdown",
   "metadata": {
    "papermill": {
     "duration": 0.028176,
     "end_time": "2023-10-22T10:20:47.356458",
     "exception": false,
     "start_time": "2023-10-22T10:20:47.328282",
     "status": "completed"
    },
    "tags": []
   },
   "source": [
    "model generalized from the training data well. "
   ]
  },
  {
   "cell_type": "code",
   "execution_count": 30,
   "metadata": {
    "execution": {
     "iopub.execute_input": "2023-10-22T10:20:47.438020Z",
     "iopub.status.busy": "2023-10-22T10:20:47.436977Z",
     "iopub.status.idle": "2023-10-22T10:20:47.555418Z",
     "shell.execute_reply": "2023-10-22T10:20:47.554866Z",
     "shell.execute_reply.started": "2023-09-25T16:55:04.902461Z"
    },
    "papermill": {
     "duration": 0.171336,
     "end_time": "2023-10-22T10:20:47.555567",
     "exception": false,
     "start_time": "2023-10-22T10:20:47.384231",
     "status": "completed"
    },
    "scrolled": true,
    "tags": []
   },
   "outputs": [
    {
     "name": "stdout",
     "output_type": "stream",
     "text": [
      "Prediction:  [7]\n",
      "Label:  7\n"
     ]
    },
    {
     "data": {
      "image/png": "[encoded data removed]",
      "text/plain": [
       "<Figure size 640x480 with 1 Axes>"
      ]
     },
     "metadata": {},
     "output_type": "display_data"
    }
   ],
   "source": [
    "test_prediction(18, W1, b1, W2, b2)"
   ]
  },
  {
   "cell_type": "markdown",
   "metadata": {
    "papermill": {
     "duration": 0.028772,
     "end_time": "2023-10-22T10:20:47.612943",
     "exception": false,
     "start_time": "2023-10-22T10:20:47.584171",
     "status": "completed"
    },
    "tags": []
   },
   "source": [
    "**Refrences**\n",
    "\n",
    "[1] Samson Zhang, Building a neural network FROM SCRATCH (no Tensorflow/Pytorch, just numpy & math), https://youtu.be/w8yWXqWQYmU?feature=shared"
   ]
  }
 ],
 "metadata": {
  "kernelspec": {
   "display_name": "Python 3 (ipykernel)",
   "language": "python",
   "name": "python3"
  },
  "language_info": {
   "codemirror_mode": {
    "name": "ipython",
    "version": 3
   },
   "file_extension": ".py",
   "mimetype": "text/x-python",
   "name": "python",
   "nbconvert_exporter": "python",
   "pygments_lexer": "ipython3",
   "version": "3.9.18"
  },
  "papermill": {
   "duration": 51.471217,
   "end_time": "2023-10-22T10:20:47.748401",
   "environment_variables": {},
   "exception": null,
   "input_path": "__notebook__.ipynb",
   "output_path": "__notebook__.ipynb",
   "parameters": {},
   "start_time": "2023-10-22T10:19:56.277184",
   "version": "2.1.0"
  }
 },
 "nbformat": 4,
 "nbformat_minor": 4
}
