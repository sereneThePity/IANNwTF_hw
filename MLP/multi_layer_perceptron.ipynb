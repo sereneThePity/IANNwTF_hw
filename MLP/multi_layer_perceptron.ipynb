{
 "cells": [
  {
   "cell_type": "markdown",
   "id": "8db45146",
   "metadata": {},
   "source": [
    "## Data"
   ]
  },
  {
   "cell_type": "code",
   "execution_count": 1,
   "id": "1ea693dc",
   "metadata": {},
   "outputs": [],
   "source": [
    "import numpy as np\n",
    "import pandas as pd\n",
    "import matplotlib.pyplot as plt\n",
    "\n",
    "from sklearn.datasets import load_digits"
   ]
  },
  {
   "cell_type": "code",
   "execution_count": 2,
   "id": "51ec500b",
   "metadata": {
    "collapsed": true
   },
   "outputs": [
    {
     "name": "stdout",
     "output_type": "stream",
     "text": [
      "(1797, 64)\n"
     ]
    },
    {
     "data": {
      "text/plain": [
       "<Figure size 640x480 with 0 Axes>"
      ]
     },
     "metadata": {},
     "output_type": "display_data"
    },
    {
     "data": {
      "image/png": "[encoded data removed]",
      "text/plain": [
       "<Figure size 480x480 with 1 Axes>"
      ]
     },
     "metadata": {},
     "output_type": "display_data"
    }
   ],
   "source": [
    "digits = load_digits()\n",
    "print(digits.data.shape)\n",
    "plt.gray()\n",
    "plt.matshow(digits.images[1796])\n",
    "plt.show()"
   ]
  },
  {
   "cell_type": "code",
   "execution_count": 3,
   "id": "1a3b5630",
   "metadata": {},
   "outputs": [
    {
     "data": {
      "text/plain": [
       "array([[ 0.,  0.,  5., ...,  0.,  0.,  0.],\n",
       "       [ 0.,  0.,  0., ..., 10.,  0.,  0.],\n",
       "       [ 0.,  0.,  0., ..., 16.,  9.,  0.],\n",
       "       ...,\n",
       "       [ 0.,  0.,  1., ...,  6.,  0.,  0.],\n",
       "       [ 0.,  0.,  2., ..., 12.,  0.,  0.],\n",
       "       [ 0.,  0., 10., ..., 12.,  1.,  0.]])"
      ]
     },
     "execution_count": 3,
     "metadata": {},
     "output_type": "execute_result"
    }
   ],
   "source": [
    "digits.data"
   ]
  },
  {
   "cell_type": "code",
   "execution_count": 4,
   "id": "97289086",
   "metadata": {},
   "outputs": [],
   "source": [
    "# input_target = []\n",
    "# for i in range(0,1797):\n",
    "#     input_target.append((digits.images[i],digits.target[i]))"
   ]
  },
  {
   "cell_type": "code",
   "execution_count": 5,
   "id": "546f5c2b",
   "metadata": {},
   "outputs": [],
   "source": [
    "inputs = np.array(digits.images)\n",
    "targets = np.array(digits.target)"
   ]
  },
  {
   "cell_type": "code",
   "execution_count": 6,
   "id": "ff0c1ac1",
   "metadata": {
    "collapsed": true
   },
   "outputs": [
    {
     "data": {
      "text/plain": [
       "<Figure size 640x480 with 0 Axes>"
      ]
     },
     "metadata": {},
     "output_type": "display_data"
    },
    {
     "data": {
      "image/png": "[encoded data removed]",
      "text/plain": [
       "<Figure size 480x480 with 1 Axes>"
      ]
     },
     "metadata": {},
     "output_type": "display_data"
    }
   ],
   "source": [
    "plt.gray()\n",
    "plt.matshow(inputs[0])\n",
    "plt.show()"
   ]
  },
  {
   "cell_type": "code",
   "execution_count": 7,
   "id": "e71b224b",
   "metadata": {},
   "outputs": [],
   "source": [
    "reshaped_inputs = inputs.reshape(1797,64)"
   ]
  },
  {
   "cell_type": "code",
   "execution_count": 8,
   "id": "d33c01b5",
   "metadata": {},
   "outputs": [],
   "source": [
    "reshaped_inputs_f32 = reshaped_inputs.astype('float32')/16"
   ]
  },
  {
   "cell_type": "code",
   "execution_count": 9,
   "id": "d4ecf9a5",
   "metadata": {
    "collapsed": true
   },
   "outputs": [
    {
     "data": {
      "text/plain": [
       "array([[1., 0., 0., ..., 0., 0., 0.],\n",
       "       [0., 1., 0., ..., 0., 0., 0.],\n",
       "       [0., 0., 1., ..., 0., 0., 0.],\n",
       "       ...,\n",
       "       [0., 0., 0., ..., 0., 1., 0.],\n",
       "       [0., 0., 0., ..., 0., 0., 1.],\n",
       "       [0., 0., 0., ..., 0., 1., 0.]])"
      ]
     },
     "execution_count": 9,
     "metadata": {},
     "output_type": "execute_result"
    }
   ],
   "source": [
    "target_array = np.zeros((1797,10))\n",
    "for i in range(1797):\n",
    "    target_array[i][targets[i]]=1\n",
    "target_array"
   ]
  },
  {
   "cell_type": "code",
   "execution_count": 10,
   "id": "dc453c2a",
   "metadata": {},
   "outputs": [
    {
     "data": {
      "text/plain": [
       "array([1., 0., 0., 0., 0., 0., 0., 0., 0., 0.])"
      ]
     },
     "execution_count": 10,
     "metadata": {},
     "output_type": "execute_result"
    }
   ],
   "source": [
    "target_array[0]"
   ]
  },
  {
   "cell_type": "code",
   "execution_count": 11,
   "id": "d16e5189",
   "metadata": {},
   "outputs": [
    {
     "data": {
      "text/plain": [
       "(1797, 64)"
      ]
     },
     "execution_count": 11,
     "metadata": {},
     "output_type": "execute_result"
    }
   ],
   "source": [
    "reshaped_inputs_f32.shape"
   ]
  },
  {
   "cell_type": "code",
   "execution_count": 12,
   "id": "8bffccc3",
   "metadata": {},
   "outputs": [],
   "source": [
    "input_target = []\n",
    "for i in range(1797):\n",
    "    input_target.append((reshaped_inputs_f32[i],target_array[i]))"
   ]
  },
  {
   "cell_type": "code",
   "execution_count": 13,
   "id": "f142ad7e",
   "metadata": {
    "scrolled": true
   },
   "outputs": [],
   "source": [
    "import random\n",
    "random.shuffle(input_target)"
   ]
  },
  {
   "cell_type": "code",
   "execution_count": 95,
   "id": "dbcea1c1",
   "metadata": {},
   "outputs": [],
   "source": [
    "inputs = []\n",
    "targets = []\n",
    "for i in range(1797):\n",
    "    inputs.append(input_target[i][0])\n",
    "    targets.append(input_target[i][1])"
   ]
  },
  {
   "cell_type": "code",
   "execution_count": 96,
   "id": "3300d4c4",
   "metadata": {
    "collapsed": true
   },
   "outputs": [
    {
     "data": {
      "text/plain": [
       "(array([0.    , 0.    , 0.875 , 0.75  , 0.75  , 0.8125, 0.1875, 0.    ,\n",
       "        0.    , 0.    , 1.    , 0.5   , 0.5   , 0.375 , 0.0625, 0.    ,\n",
       "        0.    , 0.    , 0.875 , 0.4375, 0.3125, 0.    , 0.    , 0.    ,\n",
       "        0.    , 0.    , 0.9375, 0.9375, 1.    , 0.125 , 0.    , 0.    ,\n",
       "        0.    , 0.    , 0.8125, 0.1875, 0.375 , 0.5   , 0.    , 0.    ,\n",
       "        0.    , 0.    , 0.    , 0.    , 0.1875, 0.8125, 0.    , 0.    ,\n",
       "        0.    , 0.    , 0.3125, 0.25  , 0.5   , 0.75  , 0.0625, 0.    ,\n",
       "        0.    , 0.0625, 0.9375, 0.9375, 0.6875, 0.1875, 0.    , 0.    ],\n",
       "       dtype=float32),\n",
       " array([0., 0., 0., 0., 0., 1., 0., 0., 0., 0.]))"
      ]
     },
     "execution_count": 96,
     "metadata": {},
     "output_type": "execute_result"
    }
   ],
   "source": [
    "inputs[0],targets[0]"
   ]
  },
  {
   "cell_type": "code",
   "execution_count": 114,
   "id": "9f22345d",
   "metadata": {},
   "outputs": [],
   "source": [
    "inputs_cp = inputs.copy()\n",
    "targets_cp = targets.copy()\n",
    "\n",
    "def  generate_minibatch(inputs_cp=inputs_cp,targets_cp=targets_cp):\n",
    "    minibatch_input = np.array(inputs_cp[:10])\n",
    "    minibatch_target = np.array(targets_cp[:10])\n",
    "    \n",
    "    del inputs_cp[0:10]\n",
    "    del targets_cp[0:10]\n",
    "    print(len(inputs_cp), len(targets_cp), len(minibatch_input), len(minibatch_target))\n",
    "    \n",
    "    yield (minibatch_input,minibatch_target)"
   ]
  },
  {
   "cell_type": "code",
   "execution_count": 116,
   "id": "306ebd70",
   "metadata": {
    "collapsed": true
   },
   "outputs": [
    {
     "name": "stdout",
     "output_type": "stream",
     "text": [
      "1777 1777 10 10\n"
     ]
    },
    {
     "data": {
      "text/plain": [
       "(array([[0.    , 0.25  , 0.625 , 0.9375, 1.    , 1.    , 0.875 , 0.    ,\n",
       "         0.    , 0.6875, 1.    , 0.875 , 0.5   , 0.3125, 0.125 , 0.    ,\n",
       "         0.    , 0.375 , 1.    , 0.5   , 0.    , 0.    , 0.    , 0.    ,\n",
       "         0.    , 0.    , 0.625 , 0.9375, 0.0625, 0.    , 0.    , 0.    ,\n",
       "         0.    , 0.    , 0.125 , 1.    , 0.3125, 0.    , 0.    , 0.    ,\n",
       "         0.    , 0.    , 0.    , 0.8125, 0.625 , 0.    , 0.    , 0.    ,\n",
       "         0.    , 0.3125, 0.625 , 0.875 , 0.625 , 0.    , 0.    , 0.    ,\n",
       "         0.    , 0.1875, 1.    , 0.9375, 0.1875, 0.    , 0.    , 0.    ],\n",
       "        [0.    , 0.    , 0.25  , 0.8125, 1.    , 1.    , 0.4375, 0.    ,\n",
       "         0.    , 0.    , 0.9375, 0.625 , 0.4375, 1.    , 0.0625, 0.    ,\n",
       "         0.    , 0.4375, 0.75  , 0.    , 0.75  , 0.4375, 0.    , 0.    ,\n",
       "         0.    , 0.5625, 0.3125, 0.1875, 1.    , 0.125 , 0.    , 0.    ,\n",
       "         0.    , 0.125 , 0.6875, 1.    , 1.    , 0.75  , 0.4375, 0.    ,\n",
       "         0.    , 0.3125, 0.625 , 1.    , 0.75  , 0.5   , 0.1875, 0.    ,\n",
       "         0.    , 0.    , 0.1875, 0.9375, 0.125 , 0.    , 0.    , 0.    ,\n",
       "         0.    , 0.    , 0.375 , 0.875 , 0.    , 0.    , 0.    , 0.    ],\n",
       "        [0.    , 0.    , 0.625 , 0.8125, 0.875 , 0.5   , 0.    , 0.    ,\n",
       "         0.    , 0.    , 0.8125, 0.5625, 0.3125, 0.75  , 0.3125, 0.    ,\n",
       "         0.    , 0.25  , 0.8125, 0.    , 0.    , 0.25  , 0.5   , 0.    ,\n",
       "         0.    , 0.25  , 0.5   , 0.    , 0.    , 0.25  , 0.5   , 0.    ,\n",
       "         0.    , 0.5   , 0.25  , 0.    , 0.    , 0.8125, 0.125 , 0.    ,\n",
       "         0.    , 0.5   , 0.25  , 0.    , 0.5625, 0.625 , 0.    , 0.    ,\n",
       "         0.    , 0.25  , 0.75  , 0.75  , 0.8125, 0.0625, 0.    , 0.    ,\n",
       "         0.    , 0.0625, 0.6875, 0.6875, 0.0625, 0.    , 0.    , 0.    ],\n",
       "        [0.    , 0.    , 0.0625, 0.5625, 0.9375, 0.0625, 0.    , 0.    ,\n",
       "         0.    , 0.    , 0.5625, 0.875 , 0.25  , 0.    , 0.    , 0.    ,\n",
       "         0.    , 0.    , 1.    , 0.1875, 0.    , 0.    , 0.    , 0.    ,\n",
       "         0.    , 0.375 , 0.8125, 0.    , 0.    , 0.    , 0.    , 0.    ,\n",
       "         0.    , 0.25  , 0.875 , 0.75  , 1.    , 0.8125, 0.1875, 0.    ,\n",
       "         0.    , 0.125 , 0.9375, 0.8125, 0.25  , 0.1875, 0.8125, 0.    ,\n",
       "         0.    , 0.    , 0.5625, 0.5   , 0.125 , 0.25  , 1.    , 0.0625,\n",
       "         0.    , 0.    , 0.    , 0.5625, 0.75  , 0.75  , 0.5   , 0.    ],\n",
       "        [0.    , 0.    , 0.125 , 0.8125, 1.    , 0.5   , 0.    , 0.    ,\n",
       "         0.    , 0.0625, 0.8125, 1.    , 0.625 , 0.4375, 0.    , 0.    ,\n",
       "         0.    , 0.3125, 1.    , 0.5625, 0.    , 0.    , 0.    , 0.    ,\n",
       "         0.    , 0.4375, 1.    , 0.4375, 0.    , 0.    , 0.    , 0.    ,\n",
       "         0.    , 0.5625, 1.    , 1.    , 0.8125, 0.0625, 0.    , 0.    ,\n",
       "         0.    , 0.3125, 1.    , 0.375 , 0.875 , 0.5625, 0.    , 0.    ,\n",
       "         0.    , 0.    , 0.8125, 0.75  , 0.875 , 0.9375, 0.    , 0.    ,\n",
       "         0.    , 0.    , 0.1875, 0.75  , 1.    , 0.6875, 0.    , 0.    ],\n",
       "        [0.    , 0.0625, 0.6875, 0.75  , 0.0625, 0.    , 0.    , 0.    ,\n",
       "         0.    , 0.5   , 1.    , 0.75  , 0.5625, 0.    , 0.    , 0.    ,\n",
       "         0.    , 0.4375, 0.5   , 0.4375, 0.75  , 0.    , 0.    , 0.    ,\n",
       "         0.    , 0.0625, 0.0625, 0.25  , 0.875 , 0.    , 0.    , 0.    ,\n",
       "         0.    , 0.    , 0.    , 0.3125, 0.6875, 0.    , 0.    , 0.    ,\n",
       "         0.    , 0.    , 0.    , 0.6875, 0.5625, 0.    , 0.    , 0.    ,\n",
       "         0.    , 0.0625, 0.875 , 1.    , 1.    , 0.9375, 0.625 , 0.    ,\n",
       "         0.    , 0.    , 0.8125, 0.6875, 0.5   , 0.75  , 0.5   , 0.    ],\n",
       "        [0.    , 0.125 , 0.625 , 1.    , 0.75  , 0.    , 0.    , 0.    ,\n",
       "         0.    , 0.75  , 0.875 , 0.75  , 1.    , 0.3125, 0.    , 0.    ,\n",
       "         0.    , 0.125 , 0.    , 0.25  , 1.    , 0.4375, 0.0625, 0.    ,\n",
       "         0.    , 0.    , 0.25  , 0.9375, 1.    , 1.    , 0.625 , 0.    ,\n",
       "         0.    , 0.0625, 1.    , 1.    , 0.75  , 0.3125, 0.125 , 0.    ,\n",
       "         0.    , 0.    , 0.9375, 0.75  , 0.0625, 0.    , 0.    , 0.    ,\n",
       "         0.    , 0.0625, 0.875 , 0.25  , 0.    , 0.    , 0.    , 0.    ,\n",
       "         0.    , 0.    , 1.    , 0.1875, 0.    , 0.    , 0.    , 0.    ],\n",
       "        [0.    , 0.    , 0.125 , 0.8125, 1.    , 1.    , 0.4375, 0.    ,\n",
       "         0.    , 0.    , 0.75  , 0.9375, 0.75  , 1.    , 0.625 , 0.    ,\n",
       "         0.    , 0.    , 1.    , 0.5625, 0.    , 0.875 , 0.375 , 0.    ,\n",
       "         0.    , 0.    , 0.1875, 0.    , 0.25  , 1.    , 0.0625, 0.    ,\n",
       "         0.    , 0.    , 0.    , 0.625 , 0.875 , 1.    , 0.375 , 0.    ,\n",
       "         0.    , 0.    , 0.1875, 1.    , 1.    , 0.6875, 0.125 , 0.    ,\n",
       "         0.    , 0.    , 0.    , 0.5625, 0.875 , 0.    , 0.    , 0.    ,\n",
       "         0.    , 0.    , 0.125 , 0.9375, 0.375 , 0.    , 0.    , 0.    ],\n",
       "        [0.    , 0.    , 0.5   , 0.75  , 1.    , 1.    , 0.5625, 0.    ,\n",
       "         0.    , 0.25  , 1.    , 1.    , 0.8125, 0.5625, 0.125 , 0.    ,\n",
       "         0.    , 0.6875, 0.875 , 0.25  , 0.    , 0.    , 0.    , 0.    ,\n",
       "         0.    , 0.4375, 0.9375, 0.625 , 0.0625, 0.    , 0.    , 0.    ,\n",
       "         0.    , 0.    , 0.75  , 1.    , 0.8125, 0.0625, 0.    , 0.    ,\n",
       "         0.    , 0.    , 0.    , 0.25  , 1.    , 0.25  , 0.    , 0.    ,\n",
       "         0.    , 0.    , 0.3125, 0.625 , 1.    , 0.1875, 0.    , 0.    ,\n",
       "         0.    , 0.    , 0.5625, 1.    , 0.625 , 0.    , 0.    , 0.    ],\n",
       "        [0.    , 0.    , 0.25  , 1.    , 0.9375, 0.4375, 0.    , 0.    ,\n",
       "         0.    , 0.    , 0.375 , 1.    , 1.    , 0.375 , 0.    , 0.    ,\n",
       "         0.    , 0.    , 0.3125, 1.    , 1.    , 0.25  , 0.    , 0.    ,\n",
       "         0.    , 0.    , 0.4375, 1.    , 0.9375, 0.    , 0.    , 0.    ,\n",
       "         0.    , 0.    , 0.6875, 1.    , 0.875 , 0.    , 0.    , 0.    ,\n",
       "         0.    , 0.    , 0.375 , 1.    , 0.875 , 0.    , 0.    , 0.    ,\n",
       "         0.    , 0.    , 0.375 , 1.    , 1.    , 0.3125, 0.    , 0.    ,\n",
       "         0.    , 0.    , 0.125 , 0.75  , 1.    , 0.1875, 0.    , 0.    ]],\n",
       "       dtype=float32),\n",
       " array([[0., 0., 0., 0., 0., 1., 0., 0., 0., 0.],\n",
       "        [0., 0., 0., 0., 0., 0., 0., 1., 0., 0.],\n",
       "        [1., 0., 0., 0., 0., 0., 0., 0., 0., 0.],\n",
       "        [0., 0., 0., 0., 0., 0., 1., 0., 0., 0.],\n",
       "        [0., 0., 0., 0., 0., 0., 1., 0., 0., 0.],\n",
       "        [0., 0., 1., 0., 0., 0., 0., 0., 0., 0.],\n",
       "        [0., 0., 0., 0., 0., 0., 0., 1., 0., 0.],\n",
       "        [0., 0., 0., 0., 0., 0., 0., 1., 0., 0.],\n",
       "        [0., 0., 0., 0., 0., 1., 0., 0., 0., 0.],\n",
       "        [0., 1., 0., 0., 0., 0., 0., 0., 0., 0.]]))"
      ]
     },
     "execution_count": 116,
     "metadata": {},
     "output_type": "execute_result"
    }
   ],
   "source": [
    "next(generate_minibatch())"
   ]
  },
  {
   "cell_type": "markdown",
   "id": "a2208b4e",
   "metadata": {},
   "source": [
    "## 2.2 Sigmoid Function"
   ]
  },
  {
   "cell_type": "code",
   "execution_count": null,
   "id": "23b2f1f6",
   "metadata": {},
   "outputs": [],
   "source": []
  }
 ],
 "metadata": {
  "kernelspec": {
   "display_name": "Python 3 (ipykernel)",
   "language": "python",
   "name": "python3"
  },
  "language_info": {
   "codemirror_mode": {
    "name": "ipython",
    "version": 3
   },
   "file_extension": ".py",
   "mimetype": "text/x-python",
   "name": "python",
   "nbconvert_exporter": "python",
   "pygments_lexer": "ipython3",
   "version": "3.9.18"
  }
 },
 "nbformat": 4,
 "nbformat_minor": 5
}
